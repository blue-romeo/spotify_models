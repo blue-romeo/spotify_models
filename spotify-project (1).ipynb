{
 "cells": [
  {
   "cell_type": "code",
   "execution_count": 1,
   "id": "54158b80",
   "metadata": {
    "_cell_guid": "b1076dfc-b9ad-4769-8c92-a6c4dae69d19",
    "_uuid": "8f2839f25d086af736a60e9eeb907d3b93b6e0e5",
    "execution": {
     "iopub.execute_input": "2024-08-20T14:52:24.173083Z",
     "iopub.status.busy": "2024-08-20T14:52:24.172517Z",
     "iopub.status.idle": "2024-08-20T14:52:25.361073Z",
     "shell.execute_reply": "2024-08-20T14:52:25.360055Z"
    },
    "papermill": {
     "duration": 1.204265,
     "end_time": "2024-08-20T14:52:25.363883",
     "exception": false,
     "start_time": "2024-08-20T14:52:24.159618",
     "status": "completed"
    },
    "tags": []
   },
   "outputs": [],
   "source": [
    "# This Python 3 environment comes with many helpful analytics libraries installed\n",
    "# It is defined by the kaggle/python Docker image: https://github.com/kaggle/docker-python\n",
    "# For example, here's several helpful packages to load\n",
    "\n",
    "import numpy as np # linear algebra\n",
    "import pandas as pd # data processing, CSV file I/O (e.g. pd.read_csv)\n",
    "\n",
    "# Input data files are available in the read-only \"../input/\" directory\n",
    "# For example, running this (by clicking run or pressing Shift+Enter) will list all files under the input directory\n",
    "\n",
    "import os\n",
    "for dirname, _, filenames in os.walk('/kaggle/input'):\n",
    "    for filename in filenames:\n",
    "        print(os.path.join(dirname, filename))\n",
    "\n",
    "# You can write up to 20GB to the current directory (/kaggle/working/) that gets preserved as output when you create a version using \"Save & Run All\" \n",
    "# You can also write temporary files to /kaggle/temp/, but they won't be saved outside of the current session"
   ]
  },
  {
   "cell_type": "code",
   "execution_count": 2,
   "id": "3185c896",
   "metadata": {
    "execution": {
     "iopub.execute_input": "2024-08-20T14:52:25.388339Z",
     "iopub.status.busy": "2024-08-20T14:52:25.387526Z",
     "iopub.status.idle": "2024-08-20T14:52:26.969536Z",
     "shell.execute_reply": "2024-08-20T14:52:26.968571Z"
    },
    "papermill": {
     "duration": 1.596993,
     "end_time": "2024-08-20T14:52:26.972263",
     "exception": false,
     "start_time": "2024-08-20T14:52:25.375270",
     "status": "completed"
    },
    "tags": []
   },
   "outputs": [],
   "source": [
    "import pandas as pd\n",
    "import numpy as np\n",
    "import matplotlib.pyplot as plt\n",
    "import seaborn as sns\n",
    "\n",
    "pd.set_option('display.max_columns', 200)\n",
    "plt.style.use('ggplot')"
   ]
  },
  {
   "cell_type": "code",
   "execution_count": 3,
   "id": "0b22b94b",
   "metadata": {
    "execution": {
     "iopub.execute_input": "2024-08-20T14:52:26.996084Z",
     "iopub.status.busy": "2024-08-20T14:52:26.995673Z",
     "iopub.status.idle": "2024-08-20T14:52:37.617223Z",
     "shell.execute_reply": "2024-08-20T14:52:37.616097Z"
    },
    "papermill": {
     "duration": 10.636339,
     "end_time": "2024-08-20T14:52:37.619780",
     "exception": false,
     "start_time": "2024-08-20T14:52:26.983441",
     "status": "completed"
    },
    "tags": []
   },
   "outputs": [
    {
     "data": {
      "text/html": [
       "<div>\n",
       "<style scoped>\n",
       "    .dataframe tbody tr th:only-of-type {\n",
       "        vertical-align: middle;\n",
       "    }\n",
       "\n",
       "    .dataframe tbody tr th {\n",
       "        vertical-align: top;\n",
       "    }\n",
       "\n",
       "    .dataframe thead th {\n",
       "        text-align: right;\n",
       "    }\n",
       "</style>\n",
       "<table border=\"1\" class=\"dataframe\">\n",
       "  <thead>\n",
       "    <tr style=\"text-align: right;\">\n",
       "      <th></th>\n",
       "      <th>Unnamed: 0</th>\n",
       "      <th>track_id</th>\n",
       "      <th>artists</th>\n",
       "      <th>album_name</th>\n",
       "      <th>track_name</th>\n",
       "      <th>popularity</th>\n",
       "      <th>duration_ms</th>\n",
       "      <th>explicit</th>\n",
       "      <th>danceability</th>\n",
       "      <th>energy</th>\n",
       "      <th>key</th>\n",
       "      <th>loudness</th>\n",
       "      <th>mode</th>\n",
       "      <th>speechiness</th>\n",
       "      <th>acousticness</th>\n",
       "      <th>instrumentalness</th>\n",
       "      <th>liveness</th>\n",
       "      <th>valence</th>\n",
       "      <th>tempo</th>\n",
       "      <th>time_signature</th>\n",
       "      <th>track_genre</th>\n",
       "    </tr>\n",
       "  </thead>\n",
       "  <tbody>\n",
       "    <tr>\n",
       "      <th>0</th>\n",
       "      <td>0</td>\n",
       "      <td>5SuOikwiRyPMVoIQDJUgSV</td>\n",
       "      <td>Gen Hoshino</td>\n",
       "      <td>Comedy</td>\n",
       "      <td>Comedy</td>\n",
       "      <td>73</td>\n",
       "      <td>230666</td>\n",
       "      <td>False</td>\n",
       "      <td>0.676</td>\n",
       "      <td>0.4610</td>\n",
       "      <td>1</td>\n",
       "      <td>-6.746</td>\n",
       "      <td>0</td>\n",
       "      <td>0.1430</td>\n",
       "      <td>0.0322</td>\n",
       "      <td>0.000001</td>\n",
       "      <td>0.3580</td>\n",
       "      <td>0.715</td>\n",
       "      <td>87.917</td>\n",
       "      <td>4</td>\n",
       "      <td>acoustic</td>\n",
       "    </tr>\n",
       "    <tr>\n",
       "      <th>1</th>\n",
       "      <td>1</td>\n",
       "      <td>4qPNDBW1i3p13qLCt0Ki3A</td>\n",
       "      <td>Ben Woodward</td>\n",
       "      <td>Ghost (Acoustic)</td>\n",
       "      <td>Ghost - Acoustic</td>\n",
       "      <td>55</td>\n",
       "      <td>149610</td>\n",
       "      <td>False</td>\n",
       "      <td>0.420</td>\n",
       "      <td>0.1660</td>\n",
       "      <td>1</td>\n",
       "      <td>-17.235</td>\n",
       "      <td>1</td>\n",
       "      <td>0.0763</td>\n",
       "      <td>0.9240</td>\n",
       "      <td>0.000006</td>\n",
       "      <td>0.1010</td>\n",
       "      <td>0.267</td>\n",
       "      <td>77.489</td>\n",
       "      <td>4</td>\n",
       "      <td>acoustic</td>\n",
       "    </tr>\n",
       "    <tr>\n",
       "      <th>2</th>\n",
       "      <td>2</td>\n",
       "      <td>1iJBSr7s7jYXzM8EGcbK5b</td>\n",
       "      <td>Ingrid Michaelson;ZAYN</td>\n",
       "      <td>To Begin Again</td>\n",
       "      <td>To Begin Again</td>\n",
       "      <td>57</td>\n",
       "      <td>210826</td>\n",
       "      <td>False</td>\n",
       "      <td>0.438</td>\n",
       "      <td>0.3590</td>\n",
       "      <td>0</td>\n",
       "      <td>-9.734</td>\n",
       "      <td>1</td>\n",
       "      <td>0.0557</td>\n",
       "      <td>0.2100</td>\n",
       "      <td>0.000000</td>\n",
       "      <td>0.1170</td>\n",
       "      <td>0.120</td>\n",
       "      <td>76.332</td>\n",
       "      <td>4</td>\n",
       "      <td>acoustic</td>\n",
       "    </tr>\n",
       "    <tr>\n",
       "      <th>3</th>\n",
       "      <td>3</td>\n",
       "      <td>6lfxq3CG4xtTiEg7opyCyx</td>\n",
       "      <td>Kina Grannis</td>\n",
       "      <td>Crazy Rich Asians (Original Motion Picture Sou...</td>\n",
       "      <td>Can't Help Falling In Love</td>\n",
       "      <td>71</td>\n",
       "      <td>201933</td>\n",
       "      <td>False</td>\n",
       "      <td>0.266</td>\n",
       "      <td>0.0596</td>\n",
       "      <td>0</td>\n",
       "      <td>-18.515</td>\n",
       "      <td>1</td>\n",
       "      <td>0.0363</td>\n",
       "      <td>0.9050</td>\n",
       "      <td>0.000071</td>\n",
       "      <td>0.1320</td>\n",
       "      <td>0.143</td>\n",
       "      <td>181.740</td>\n",
       "      <td>3</td>\n",
       "      <td>acoustic</td>\n",
       "    </tr>\n",
       "    <tr>\n",
       "      <th>4</th>\n",
       "      <td>4</td>\n",
       "      <td>5vjLSffimiIP26QG5WcN2K</td>\n",
       "      <td>Chord Overstreet</td>\n",
       "      <td>Hold On</td>\n",
       "      <td>Hold On</td>\n",
       "      <td>82</td>\n",
       "      <td>198853</td>\n",
       "      <td>False</td>\n",
       "      <td>0.618</td>\n",
       "      <td>0.4430</td>\n",
       "      <td>2</td>\n",
       "      <td>-9.681</td>\n",
       "      <td>1</td>\n",
       "      <td>0.0526</td>\n",
       "      <td>0.4690</td>\n",
       "      <td>0.000000</td>\n",
       "      <td>0.0829</td>\n",
       "      <td>0.167</td>\n",
       "      <td>119.949</td>\n",
       "      <td>4</td>\n",
       "      <td>acoustic</td>\n",
       "    </tr>\n",
       "  </tbody>\n",
       "</table>\n",
       "</div>"
      ],
      "text/plain": [
       "   Unnamed: 0                track_id                 artists  \\\n",
       "0           0  5SuOikwiRyPMVoIQDJUgSV             Gen Hoshino   \n",
       "1           1  4qPNDBW1i3p13qLCt0Ki3A            Ben Woodward   \n",
       "2           2  1iJBSr7s7jYXzM8EGcbK5b  Ingrid Michaelson;ZAYN   \n",
       "3           3  6lfxq3CG4xtTiEg7opyCyx            Kina Grannis   \n",
       "4           4  5vjLSffimiIP26QG5WcN2K        Chord Overstreet   \n",
       "\n",
       "                                          album_name  \\\n",
       "0                                             Comedy   \n",
       "1                                   Ghost (Acoustic)   \n",
       "2                                     To Begin Again   \n",
       "3  Crazy Rich Asians (Original Motion Picture Sou...   \n",
       "4                                            Hold On   \n",
       "\n",
       "                   track_name  popularity  duration_ms  explicit  \\\n",
       "0                      Comedy          73       230666     False   \n",
       "1            Ghost - Acoustic          55       149610     False   \n",
       "2              To Begin Again          57       210826     False   \n",
       "3  Can't Help Falling In Love          71       201933     False   \n",
       "4                     Hold On          82       198853     False   \n",
       "\n",
       "   danceability  energy  key  loudness  mode  speechiness  acousticness  \\\n",
       "0         0.676  0.4610    1    -6.746     0       0.1430        0.0322   \n",
       "1         0.420  0.1660    1   -17.235     1       0.0763        0.9240   \n",
       "2         0.438  0.3590    0    -9.734     1       0.0557        0.2100   \n",
       "3         0.266  0.0596    0   -18.515     1       0.0363        0.9050   \n",
       "4         0.618  0.4430    2    -9.681     1       0.0526        0.4690   \n",
       "\n",
       "   instrumentalness  liveness  valence    tempo  time_signature track_genre  \n",
       "0          0.000001    0.3580    0.715   87.917               4    acoustic  \n",
       "1          0.000006    0.1010    0.267   77.489               4    acoustic  \n",
       "2          0.000000    0.1170    0.120   76.332               4    acoustic  \n",
       "3          0.000071    0.1320    0.143  181.740               3    acoustic  \n",
       "4          0.000000    0.0829    0.167  119.949               4    acoustic  "
      ]
     },
     "execution_count": 3,
     "metadata": {},
     "output_type": "execute_result"
    }
   ],
   "source": [
    "df = pd.read_csv(\"hf://datasets/maharshipandya/spotify-tracks-dataset/dataset.csv\")\n",
    "df.head()"
   ]
  },
  {
   "cell_type": "markdown",
   "id": "b6bd36f9",
   "metadata": {
    "papermill": {
     "duration": 0.010994,
     "end_time": "2024-08-20T14:52:37.642234",
     "exception": false,
     "start_time": "2024-08-20T14:52:37.631240",
     "status": "completed"
    },
    "tags": []
   },
   "source": [
    "# understanding the data"
   ]
  },
  {
   "cell_type": "code",
   "execution_count": 4,
   "id": "57235684",
   "metadata": {
    "execution": {
     "iopub.execute_input": "2024-08-20T14:52:37.668316Z",
     "iopub.status.busy": "2024-08-20T14:52:37.667898Z",
     "iopub.status.idle": "2024-08-20T14:52:37.674928Z",
     "shell.execute_reply": "2024-08-20T14:52:37.673755Z"
    },
    "papermill": {
     "duration": 0.023029,
     "end_time": "2024-08-20T14:52:37.677425",
     "exception": false,
     "start_time": "2024-08-20T14:52:37.654396",
     "status": "completed"
    },
    "tags": []
   },
   "outputs": [
    {
     "data": {
      "text/plain": [
       "(114000, 21)"
      ]
     },
     "execution_count": 4,
     "metadata": {},
     "output_type": "execute_result"
    }
   ],
   "source": [
    "df.shape"
   ]
  },
  {
   "cell_type": "code",
   "execution_count": 5,
   "id": "57d39027",
   "metadata": {
    "execution": {
     "iopub.execute_input": "2024-08-20T14:52:37.701929Z",
     "iopub.status.busy": "2024-08-20T14:52:37.701533Z",
     "iopub.status.idle": "2024-08-20T14:52:37.708536Z",
     "shell.execute_reply": "2024-08-20T14:52:37.707581Z"
    },
    "papermill": {
     "duration": 0.022059,
     "end_time": "2024-08-20T14:52:37.710959",
     "exception": false,
     "start_time": "2024-08-20T14:52:37.688900",
     "status": "completed"
    },
    "tags": []
   },
   "outputs": [
    {
     "data": {
      "text/plain": [
       "Index(['Unnamed: 0', 'track_id', 'artists', 'album_name', 'track_name',\n",
       "       'popularity', 'duration_ms', 'explicit', 'danceability', 'energy',\n",
       "       'key', 'loudness', 'mode', 'speechiness', 'acousticness',\n",
       "       'instrumentalness', 'liveness', 'valence', 'tempo', 'time_signature',\n",
       "       'track_genre'],\n",
       "      dtype='object')"
      ]
     },
     "execution_count": 5,
     "metadata": {},
     "output_type": "execute_result"
    }
   ],
   "source": [
    "df.columns"
   ]
  },
  {
   "cell_type": "code",
   "execution_count": 6,
   "id": "901090b0",
   "metadata": {
    "execution": {
     "iopub.execute_input": "2024-08-20T14:52:37.736040Z",
     "iopub.status.busy": "2024-08-20T14:52:37.735657Z",
     "iopub.status.idle": "2024-08-20T14:52:37.744122Z",
     "shell.execute_reply": "2024-08-20T14:52:37.743083Z"
    },
    "papermill": {
     "duration": 0.023884,
     "end_time": "2024-08-20T14:52:37.746646",
     "exception": false,
     "start_time": "2024-08-20T14:52:37.722762",
     "status": "completed"
    },
    "tags": []
   },
   "outputs": [
    {
     "data": {
      "text/plain": [
       "Unnamed: 0            int64\n",
       "track_id             object\n",
       "artists              object\n",
       "album_name           object\n",
       "track_name           object\n",
       "popularity            int64\n",
       "duration_ms           int64\n",
       "explicit               bool\n",
       "danceability        float64\n",
       "energy              float64\n",
       "key                   int64\n",
       "loudness            float64\n",
       "mode                  int64\n",
       "speechiness         float64\n",
       "acousticness        float64\n",
       "instrumentalness    float64\n",
       "liveness            float64\n",
       "valence             float64\n",
       "tempo               float64\n",
       "time_signature        int64\n",
       "track_genre          object\n",
       "dtype: object"
      ]
     },
     "execution_count": 6,
     "metadata": {},
     "output_type": "execute_result"
    }
   ],
   "source": [
    "df.dtypes"
   ]
  },
  {
   "cell_type": "markdown",
   "id": "36ec65c2",
   "metadata": {
    "papermill": {
     "duration": 0.011586,
     "end_time": "2024-08-20T14:52:37.772399",
     "exception": false,
     "start_time": "2024-08-20T14:52:37.760813",
     "status": "completed"
    },
    "tags": []
   },
   "source": [
    "# data preparation"
   ]
  },
  {
   "cell_type": "markdown",
   "id": "237e87cb",
   "metadata": {
    "papermill": {
     "duration": 0.011659,
     "end_time": "2024-08-20T14:52:37.796078",
     "exception": false,
     "start_time": "2024-08-20T14:52:37.784419",
     "status": "completed"
    },
    "tags": []
   },
   "source": [
    "## dropping irrelevant columns"
   ]
  },
  {
   "cell_type": "code",
   "execution_count": 7,
   "id": "a3e2eeae",
   "metadata": {
    "execution": {
     "iopub.execute_input": "2024-08-20T14:52:37.821907Z",
     "iopub.status.busy": "2024-08-20T14:52:37.821499Z",
     "iopub.status.idle": "2024-08-20T14:52:37.843469Z",
     "shell.execute_reply": "2024-08-20T14:52:37.842519Z"
    },
    "papermill": {
     "duration": 0.038109,
     "end_time": "2024-08-20T14:52:37.846184",
     "exception": false,
     "start_time": "2024-08-20T14:52:37.808075",
     "status": "completed"
    },
    "tags": []
   },
   "outputs": [],
   "source": [
    "df.rename(columns={'Unnamed: 0': 'index_col'}, inplace=True)\n",
    "df=df.set_index('index_col')"
   ]
  },
  {
   "cell_type": "code",
   "execution_count": 8,
   "id": "cfaafde3",
   "metadata": {
    "execution": {
     "iopub.execute_input": "2024-08-20T14:52:37.871606Z",
     "iopub.status.busy": "2024-08-20T14:52:37.871224Z",
     "iopub.status.idle": "2024-08-20T14:52:37.915347Z",
     "shell.execute_reply": "2024-08-20T14:52:37.914379Z"
    },
    "papermill": {
     "duration": 0.059761,
     "end_time": "2024-08-20T14:52:37.917874",
     "exception": false,
     "start_time": "2024-08-20T14:52:37.858113",
     "status": "completed"
    },
    "tags": []
   },
   "outputs": [
    {
     "data": {
      "text/html": [
       "<div>\n",
       "<style scoped>\n",
       "    .dataframe tbody tr th:only-of-type {\n",
       "        vertical-align: middle;\n",
       "    }\n",
       "\n",
       "    .dataframe tbody tr th {\n",
       "        vertical-align: top;\n",
       "    }\n",
       "\n",
       "    .dataframe thead th {\n",
       "        text-align: right;\n",
       "    }\n",
       "</style>\n",
       "<table border=\"1\" class=\"dataframe\">\n",
       "  <thead>\n",
       "    <tr style=\"text-align: right;\">\n",
       "      <th></th>\n",
       "      <th>popularity</th>\n",
       "      <th>duration_ms</th>\n",
       "      <th>explicit</th>\n",
       "      <th>danceability</th>\n",
       "      <th>energy</th>\n",
       "      <th>key</th>\n",
       "      <th>loudness</th>\n",
       "      <th>mode</th>\n",
       "      <th>speechiness</th>\n",
       "      <th>acousticness</th>\n",
       "      <th>instrumentalness</th>\n",
       "      <th>liveness</th>\n",
       "      <th>valence</th>\n",
       "      <th>tempo</th>\n",
       "      <th>time_signature</th>\n",
       "      <th>track_genre</th>\n",
       "    </tr>\n",
       "    <tr>\n",
       "      <th>index_col</th>\n",
       "      <th></th>\n",
       "      <th></th>\n",
       "      <th></th>\n",
       "      <th></th>\n",
       "      <th></th>\n",
       "      <th></th>\n",
       "      <th></th>\n",
       "      <th></th>\n",
       "      <th></th>\n",
       "      <th></th>\n",
       "      <th></th>\n",
       "      <th></th>\n",
       "      <th></th>\n",
       "      <th></th>\n",
       "      <th></th>\n",
       "      <th></th>\n",
       "    </tr>\n",
       "  </thead>\n",
       "  <tbody>\n",
       "    <tr>\n",
       "      <th>0</th>\n",
       "      <td>73</td>\n",
       "      <td>230666</td>\n",
       "      <td>False</td>\n",
       "      <td>0.676</td>\n",
       "      <td>0.4610</td>\n",
       "      <td>1</td>\n",
       "      <td>-6.746</td>\n",
       "      <td>0</td>\n",
       "      <td>0.1430</td>\n",
       "      <td>0.0322</td>\n",
       "      <td>0.000001</td>\n",
       "      <td>0.3580</td>\n",
       "      <td>0.7150</td>\n",
       "      <td>87.917</td>\n",
       "      <td>4</td>\n",
       "      <td>acoustic</td>\n",
       "    </tr>\n",
       "    <tr>\n",
       "      <th>1</th>\n",
       "      <td>55</td>\n",
       "      <td>149610</td>\n",
       "      <td>False</td>\n",
       "      <td>0.420</td>\n",
       "      <td>0.1660</td>\n",
       "      <td>1</td>\n",
       "      <td>-17.235</td>\n",
       "      <td>1</td>\n",
       "      <td>0.0763</td>\n",
       "      <td>0.9240</td>\n",
       "      <td>0.000006</td>\n",
       "      <td>0.1010</td>\n",
       "      <td>0.2670</td>\n",
       "      <td>77.489</td>\n",
       "      <td>4</td>\n",
       "      <td>acoustic</td>\n",
       "    </tr>\n",
       "    <tr>\n",
       "      <th>2</th>\n",
       "      <td>57</td>\n",
       "      <td>210826</td>\n",
       "      <td>False</td>\n",
       "      <td>0.438</td>\n",
       "      <td>0.3590</td>\n",
       "      <td>0</td>\n",
       "      <td>-9.734</td>\n",
       "      <td>1</td>\n",
       "      <td>0.0557</td>\n",
       "      <td>0.2100</td>\n",
       "      <td>0.000000</td>\n",
       "      <td>0.1170</td>\n",
       "      <td>0.1200</td>\n",
       "      <td>76.332</td>\n",
       "      <td>4</td>\n",
       "      <td>acoustic</td>\n",
       "    </tr>\n",
       "    <tr>\n",
       "      <th>3</th>\n",
       "      <td>71</td>\n",
       "      <td>201933</td>\n",
       "      <td>False</td>\n",
       "      <td>0.266</td>\n",
       "      <td>0.0596</td>\n",
       "      <td>0</td>\n",
       "      <td>-18.515</td>\n",
       "      <td>1</td>\n",
       "      <td>0.0363</td>\n",
       "      <td>0.9050</td>\n",
       "      <td>0.000071</td>\n",
       "      <td>0.1320</td>\n",
       "      <td>0.1430</td>\n",
       "      <td>181.740</td>\n",
       "      <td>3</td>\n",
       "      <td>acoustic</td>\n",
       "    </tr>\n",
       "    <tr>\n",
       "      <th>4</th>\n",
       "      <td>82</td>\n",
       "      <td>198853</td>\n",
       "      <td>False</td>\n",
       "      <td>0.618</td>\n",
       "      <td>0.4430</td>\n",
       "      <td>2</td>\n",
       "      <td>-9.681</td>\n",
       "      <td>1</td>\n",
       "      <td>0.0526</td>\n",
       "      <td>0.4690</td>\n",
       "      <td>0.000000</td>\n",
       "      <td>0.0829</td>\n",
       "      <td>0.1670</td>\n",
       "      <td>119.949</td>\n",
       "      <td>4</td>\n",
       "      <td>acoustic</td>\n",
       "    </tr>\n",
       "    <tr>\n",
       "      <th>...</th>\n",
       "      <td>...</td>\n",
       "      <td>...</td>\n",
       "      <td>...</td>\n",
       "      <td>...</td>\n",
       "      <td>...</td>\n",
       "      <td>...</td>\n",
       "      <td>...</td>\n",
       "      <td>...</td>\n",
       "      <td>...</td>\n",
       "      <td>...</td>\n",
       "      <td>...</td>\n",
       "      <td>...</td>\n",
       "      <td>...</td>\n",
       "      <td>...</td>\n",
       "      <td>...</td>\n",
       "      <td>...</td>\n",
       "    </tr>\n",
       "    <tr>\n",
       "      <th>113995</th>\n",
       "      <td>21</td>\n",
       "      <td>384999</td>\n",
       "      <td>False</td>\n",
       "      <td>0.172</td>\n",
       "      <td>0.2350</td>\n",
       "      <td>5</td>\n",
       "      <td>-16.393</td>\n",
       "      <td>1</td>\n",
       "      <td>0.0422</td>\n",
       "      <td>0.6400</td>\n",
       "      <td>0.928000</td>\n",
       "      <td>0.0863</td>\n",
       "      <td>0.0339</td>\n",
       "      <td>125.995</td>\n",
       "      <td>5</td>\n",
       "      <td>world-music</td>\n",
       "    </tr>\n",
       "    <tr>\n",
       "      <th>113996</th>\n",
       "      <td>22</td>\n",
       "      <td>385000</td>\n",
       "      <td>False</td>\n",
       "      <td>0.174</td>\n",
       "      <td>0.1170</td>\n",
       "      <td>0</td>\n",
       "      <td>-18.318</td>\n",
       "      <td>0</td>\n",
       "      <td>0.0401</td>\n",
       "      <td>0.9940</td>\n",
       "      <td>0.976000</td>\n",
       "      <td>0.1050</td>\n",
       "      <td>0.0350</td>\n",
       "      <td>85.239</td>\n",
       "      <td>4</td>\n",
       "      <td>world-music</td>\n",
       "    </tr>\n",
       "    <tr>\n",
       "      <th>113997</th>\n",
       "      <td>22</td>\n",
       "      <td>271466</td>\n",
       "      <td>False</td>\n",
       "      <td>0.629</td>\n",
       "      <td>0.3290</td>\n",
       "      <td>0</td>\n",
       "      <td>-10.895</td>\n",
       "      <td>0</td>\n",
       "      <td>0.0420</td>\n",
       "      <td>0.8670</td>\n",
       "      <td>0.000000</td>\n",
       "      <td>0.0839</td>\n",
       "      <td>0.7430</td>\n",
       "      <td>132.378</td>\n",
       "      <td>4</td>\n",
       "      <td>world-music</td>\n",
       "    </tr>\n",
       "    <tr>\n",
       "      <th>113998</th>\n",
       "      <td>41</td>\n",
       "      <td>283893</td>\n",
       "      <td>False</td>\n",
       "      <td>0.587</td>\n",
       "      <td>0.5060</td>\n",
       "      <td>7</td>\n",
       "      <td>-10.889</td>\n",
       "      <td>1</td>\n",
       "      <td>0.0297</td>\n",
       "      <td>0.3810</td>\n",
       "      <td>0.000000</td>\n",
       "      <td>0.2700</td>\n",
       "      <td>0.4130</td>\n",
       "      <td>135.960</td>\n",
       "      <td>4</td>\n",
       "      <td>world-music</td>\n",
       "    </tr>\n",
       "    <tr>\n",
       "      <th>113999</th>\n",
       "      <td>22</td>\n",
       "      <td>241826</td>\n",
       "      <td>False</td>\n",
       "      <td>0.526</td>\n",
       "      <td>0.4870</td>\n",
       "      <td>1</td>\n",
       "      <td>-10.204</td>\n",
       "      <td>0</td>\n",
       "      <td>0.0725</td>\n",
       "      <td>0.6810</td>\n",
       "      <td>0.000000</td>\n",
       "      <td>0.0893</td>\n",
       "      <td>0.7080</td>\n",
       "      <td>79.198</td>\n",
       "      <td>4</td>\n",
       "      <td>world-music</td>\n",
       "    </tr>\n",
       "  </tbody>\n",
       "</table>\n",
       "<p>114000 rows × 16 columns</p>\n",
       "</div>"
      ],
      "text/plain": [
       "           popularity  duration_ms  explicit  danceability  energy  key  \\\n",
       "index_col                                                                 \n",
       "0                  73       230666     False         0.676  0.4610    1   \n",
       "1                  55       149610     False         0.420  0.1660    1   \n",
       "2                  57       210826     False         0.438  0.3590    0   \n",
       "3                  71       201933     False         0.266  0.0596    0   \n",
       "4                  82       198853     False         0.618  0.4430    2   \n",
       "...               ...          ...       ...           ...     ...  ...   \n",
       "113995             21       384999     False         0.172  0.2350    5   \n",
       "113996             22       385000     False         0.174  0.1170    0   \n",
       "113997             22       271466     False         0.629  0.3290    0   \n",
       "113998             41       283893     False         0.587  0.5060    7   \n",
       "113999             22       241826     False         0.526  0.4870    1   \n",
       "\n",
       "           loudness  mode  speechiness  acousticness  instrumentalness  \\\n",
       "index_col                                                                \n",
       "0            -6.746     0       0.1430        0.0322          0.000001   \n",
       "1           -17.235     1       0.0763        0.9240          0.000006   \n",
       "2            -9.734     1       0.0557        0.2100          0.000000   \n",
       "3           -18.515     1       0.0363        0.9050          0.000071   \n",
       "4            -9.681     1       0.0526        0.4690          0.000000   \n",
       "...             ...   ...          ...           ...               ...   \n",
       "113995      -16.393     1       0.0422        0.6400          0.928000   \n",
       "113996      -18.318     0       0.0401        0.9940          0.976000   \n",
       "113997      -10.895     0       0.0420        0.8670          0.000000   \n",
       "113998      -10.889     1       0.0297        0.3810          0.000000   \n",
       "113999      -10.204     0       0.0725        0.6810          0.000000   \n",
       "\n",
       "           liveness  valence    tempo  time_signature  track_genre  \n",
       "index_col                                                           \n",
       "0            0.3580   0.7150   87.917               4     acoustic  \n",
       "1            0.1010   0.2670   77.489               4     acoustic  \n",
       "2            0.1170   0.1200   76.332               4     acoustic  \n",
       "3            0.1320   0.1430  181.740               3     acoustic  \n",
       "4            0.0829   0.1670  119.949               4     acoustic  \n",
       "...             ...      ...      ...             ...          ...  \n",
       "113995       0.0863   0.0339  125.995               5  world-music  \n",
       "113996       0.1050   0.0350   85.239               4  world-music  \n",
       "113997       0.0839   0.7430  132.378               4  world-music  \n",
       "113998       0.2700   0.4130  135.960               4  world-music  \n",
       "113999       0.0893   0.7080   79.198               4  world-music  \n",
       "\n",
       "[114000 rows x 16 columns]"
      ]
     },
     "execution_count": 8,
     "metadata": {},
     "output_type": "execute_result"
    }
   ],
   "source": [
    "df=df.drop(columns=['artists','track_id','album_name','track_name'])\n",
    "df"
   ]
  },
  {
   "cell_type": "code",
   "execution_count": 9,
   "id": "c9d720db",
   "metadata": {
    "execution": {
     "iopub.execute_input": "2024-08-20T14:52:37.944566Z",
     "iopub.status.busy": "2024-08-20T14:52:37.944023Z",
     "iopub.status.idle": "2024-08-20T14:52:37.989524Z",
     "shell.execute_reply": "2024-08-20T14:52:37.988460Z"
    },
    "papermill": {
     "duration": 0.061621,
     "end_time": "2024-08-20T14:52:37.992005",
     "exception": false,
     "start_time": "2024-08-20T14:52:37.930384",
     "status": "completed"
    },
    "tags": []
   },
   "outputs": [
    {
     "data": {
      "text/html": [
       "<div>\n",
       "<style scoped>\n",
       "    .dataframe tbody tr th:only-of-type {\n",
       "        vertical-align: middle;\n",
       "    }\n",
       "\n",
       "    .dataframe tbody tr th {\n",
       "        vertical-align: top;\n",
       "    }\n",
       "\n",
       "    .dataframe thead th {\n",
       "        text-align: right;\n",
       "    }\n",
       "</style>\n",
       "<table border=\"1\" class=\"dataframe\">\n",
       "  <thead>\n",
       "    <tr style=\"text-align: right;\">\n",
       "      <th></th>\n",
       "      <th>popularity</th>\n",
       "      <th>duration_ms</th>\n",
       "      <th>explicit</th>\n",
       "      <th>danceability</th>\n",
       "      <th>energy</th>\n",
       "      <th>key</th>\n",
       "      <th>loudness</th>\n",
       "      <th>mode</th>\n",
       "      <th>speechiness</th>\n",
       "      <th>acousticness</th>\n",
       "      <th>instrumentalness</th>\n",
       "      <th>liveness</th>\n",
       "      <th>valence</th>\n",
       "      <th>tempo</th>\n",
       "      <th>time_signature</th>\n",
       "      <th>track_genre</th>\n",
       "    </tr>\n",
       "  </thead>\n",
       "  <tbody>\n",
       "    <tr>\n",
       "      <th>0</th>\n",
       "      <td>73</td>\n",
       "      <td>230666</td>\n",
       "      <td>False</td>\n",
       "      <td>0.676</td>\n",
       "      <td>0.4610</td>\n",
       "      <td>1</td>\n",
       "      <td>-6.746</td>\n",
       "      <td>0</td>\n",
       "      <td>0.1430</td>\n",
       "      <td>0.0322</td>\n",
       "      <td>0.000001</td>\n",
       "      <td>0.3580</td>\n",
       "      <td>0.7150</td>\n",
       "      <td>87.917</td>\n",
       "      <td>4</td>\n",
       "      <td>acoustic</td>\n",
       "    </tr>\n",
       "    <tr>\n",
       "      <th>1</th>\n",
       "      <td>55</td>\n",
       "      <td>149610</td>\n",
       "      <td>False</td>\n",
       "      <td>0.420</td>\n",
       "      <td>0.1660</td>\n",
       "      <td>1</td>\n",
       "      <td>-17.235</td>\n",
       "      <td>1</td>\n",
       "      <td>0.0763</td>\n",
       "      <td>0.9240</td>\n",
       "      <td>0.000006</td>\n",
       "      <td>0.1010</td>\n",
       "      <td>0.2670</td>\n",
       "      <td>77.489</td>\n",
       "      <td>4</td>\n",
       "      <td>acoustic</td>\n",
       "    </tr>\n",
       "    <tr>\n",
       "      <th>2</th>\n",
       "      <td>57</td>\n",
       "      <td>210826</td>\n",
       "      <td>False</td>\n",
       "      <td>0.438</td>\n",
       "      <td>0.3590</td>\n",
       "      <td>0</td>\n",
       "      <td>-9.734</td>\n",
       "      <td>1</td>\n",
       "      <td>0.0557</td>\n",
       "      <td>0.2100</td>\n",
       "      <td>0.000000</td>\n",
       "      <td>0.1170</td>\n",
       "      <td>0.1200</td>\n",
       "      <td>76.332</td>\n",
       "      <td>4</td>\n",
       "      <td>acoustic</td>\n",
       "    </tr>\n",
       "    <tr>\n",
       "      <th>3</th>\n",
       "      <td>71</td>\n",
       "      <td>201933</td>\n",
       "      <td>False</td>\n",
       "      <td>0.266</td>\n",
       "      <td>0.0596</td>\n",
       "      <td>0</td>\n",
       "      <td>-18.515</td>\n",
       "      <td>1</td>\n",
       "      <td>0.0363</td>\n",
       "      <td>0.9050</td>\n",
       "      <td>0.000071</td>\n",
       "      <td>0.1320</td>\n",
       "      <td>0.1430</td>\n",
       "      <td>181.740</td>\n",
       "      <td>3</td>\n",
       "      <td>acoustic</td>\n",
       "    </tr>\n",
       "    <tr>\n",
       "      <th>4</th>\n",
       "      <td>82</td>\n",
       "      <td>198853</td>\n",
       "      <td>False</td>\n",
       "      <td>0.618</td>\n",
       "      <td>0.4430</td>\n",
       "      <td>2</td>\n",
       "      <td>-9.681</td>\n",
       "      <td>1</td>\n",
       "      <td>0.0526</td>\n",
       "      <td>0.4690</td>\n",
       "      <td>0.000000</td>\n",
       "      <td>0.0829</td>\n",
       "      <td>0.1670</td>\n",
       "      <td>119.949</td>\n",
       "      <td>4</td>\n",
       "      <td>acoustic</td>\n",
       "    </tr>\n",
       "    <tr>\n",
       "      <th>...</th>\n",
       "      <td>...</td>\n",
       "      <td>...</td>\n",
       "      <td>...</td>\n",
       "      <td>...</td>\n",
       "      <td>...</td>\n",
       "      <td>...</td>\n",
       "      <td>...</td>\n",
       "      <td>...</td>\n",
       "      <td>...</td>\n",
       "      <td>...</td>\n",
       "      <td>...</td>\n",
       "      <td>...</td>\n",
       "      <td>...</td>\n",
       "      <td>...</td>\n",
       "      <td>...</td>\n",
       "      <td>...</td>\n",
       "    </tr>\n",
       "    <tr>\n",
       "      <th>113995</th>\n",
       "      <td>21</td>\n",
       "      <td>384999</td>\n",
       "      <td>False</td>\n",
       "      <td>0.172</td>\n",
       "      <td>0.2350</td>\n",
       "      <td>5</td>\n",
       "      <td>-16.393</td>\n",
       "      <td>1</td>\n",
       "      <td>0.0422</td>\n",
       "      <td>0.6400</td>\n",
       "      <td>0.928000</td>\n",
       "      <td>0.0863</td>\n",
       "      <td>0.0339</td>\n",
       "      <td>125.995</td>\n",
       "      <td>5</td>\n",
       "      <td>world-music</td>\n",
       "    </tr>\n",
       "    <tr>\n",
       "      <th>113996</th>\n",
       "      <td>22</td>\n",
       "      <td>385000</td>\n",
       "      <td>False</td>\n",
       "      <td>0.174</td>\n",
       "      <td>0.1170</td>\n",
       "      <td>0</td>\n",
       "      <td>-18.318</td>\n",
       "      <td>0</td>\n",
       "      <td>0.0401</td>\n",
       "      <td>0.9940</td>\n",
       "      <td>0.976000</td>\n",
       "      <td>0.1050</td>\n",
       "      <td>0.0350</td>\n",
       "      <td>85.239</td>\n",
       "      <td>4</td>\n",
       "      <td>world-music</td>\n",
       "    </tr>\n",
       "    <tr>\n",
       "      <th>113997</th>\n",
       "      <td>22</td>\n",
       "      <td>271466</td>\n",
       "      <td>False</td>\n",
       "      <td>0.629</td>\n",
       "      <td>0.3290</td>\n",
       "      <td>0</td>\n",
       "      <td>-10.895</td>\n",
       "      <td>0</td>\n",
       "      <td>0.0420</td>\n",
       "      <td>0.8670</td>\n",
       "      <td>0.000000</td>\n",
       "      <td>0.0839</td>\n",
       "      <td>0.7430</td>\n",
       "      <td>132.378</td>\n",
       "      <td>4</td>\n",
       "      <td>world-music</td>\n",
       "    </tr>\n",
       "    <tr>\n",
       "      <th>113998</th>\n",
       "      <td>41</td>\n",
       "      <td>283893</td>\n",
       "      <td>False</td>\n",
       "      <td>0.587</td>\n",
       "      <td>0.5060</td>\n",
       "      <td>7</td>\n",
       "      <td>-10.889</td>\n",
       "      <td>1</td>\n",
       "      <td>0.0297</td>\n",
       "      <td>0.3810</td>\n",
       "      <td>0.000000</td>\n",
       "      <td>0.2700</td>\n",
       "      <td>0.4130</td>\n",
       "      <td>135.960</td>\n",
       "      <td>4</td>\n",
       "      <td>world-music</td>\n",
       "    </tr>\n",
       "    <tr>\n",
       "      <th>113999</th>\n",
       "      <td>22</td>\n",
       "      <td>241826</td>\n",
       "      <td>False</td>\n",
       "      <td>0.526</td>\n",
       "      <td>0.4870</td>\n",
       "      <td>1</td>\n",
       "      <td>-10.204</td>\n",
       "      <td>0</td>\n",
       "      <td>0.0725</td>\n",
       "      <td>0.6810</td>\n",
       "      <td>0.000000</td>\n",
       "      <td>0.0893</td>\n",
       "      <td>0.7080</td>\n",
       "      <td>79.198</td>\n",
       "      <td>4</td>\n",
       "      <td>world-music</td>\n",
       "    </tr>\n",
       "  </tbody>\n",
       "</table>\n",
       "<p>114000 rows × 16 columns</p>\n",
       "</div>"
      ],
      "text/plain": [
       "        popularity  duration_ms  explicit  danceability  energy  key  \\\n",
       "0               73       230666     False         0.676  0.4610    1   \n",
       "1               55       149610     False         0.420  0.1660    1   \n",
       "2               57       210826     False         0.438  0.3590    0   \n",
       "3               71       201933     False         0.266  0.0596    0   \n",
       "4               82       198853     False         0.618  0.4430    2   \n",
       "...            ...          ...       ...           ...     ...  ...   \n",
       "113995          21       384999     False         0.172  0.2350    5   \n",
       "113996          22       385000     False         0.174  0.1170    0   \n",
       "113997          22       271466     False         0.629  0.3290    0   \n",
       "113998          41       283893     False         0.587  0.5060    7   \n",
       "113999          22       241826     False         0.526  0.4870    1   \n",
       "\n",
       "        loudness  mode  speechiness  acousticness  instrumentalness  liveness  \\\n",
       "0         -6.746     0       0.1430        0.0322          0.000001    0.3580   \n",
       "1        -17.235     1       0.0763        0.9240          0.000006    0.1010   \n",
       "2         -9.734     1       0.0557        0.2100          0.000000    0.1170   \n",
       "3        -18.515     1       0.0363        0.9050          0.000071    0.1320   \n",
       "4         -9.681     1       0.0526        0.4690          0.000000    0.0829   \n",
       "...          ...   ...          ...           ...               ...       ...   \n",
       "113995   -16.393     1       0.0422        0.6400          0.928000    0.0863   \n",
       "113996   -18.318     0       0.0401        0.9940          0.976000    0.1050   \n",
       "113997   -10.895     0       0.0420        0.8670          0.000000    0.0839   \n",
       "113998   -10.889     1       0.0297        0.3810          0.000000    0.2700   \n",
       "113999   -10.204     0       0.0725        0.6810          0.000000    0.0893   \n",
       "\n",
       "        valence    tempo  time_signature  track_genre  \n",
       "0        0.7150   87.917               4     acoustic  \n",
       "1        0.2670   77.489               4     acoustic  \n",
       "2        0.1200   76.332               4     acoustic  \n",
       "3        0.1430  181.740               3     acoustic  \n",
       "4        0.1670  119.949               4     acoustic  \n",
       "...         ...      ...             ...          ...  \n",
       "113995   0.0339  125.995               5  world-music  \n",
       "113996   0.0350   85.239               4  world-music  \n",
       "113997   0.7430  132.378               4  world-music  \n",
       "113998   0.4130  135.960               4  world-music  \n",
       "113999   0.7080   79.198               4  world-music  \n",
       "\n",
       "[114000 rows x 16 columns]"
      ]
     },
     "execution_count": 9,
     "metadata": {},
     "output_type": "execute_result"
    }
   ],
   "source": [
    "df.reset_index(drop=True)"
   ]
  },
  {
   "cell_type": "code",
   "execution_count": 10,
   "id": "18e93fad",
   "metadata": {
    "execution": {
     "iopub.execute_input": "2024-08-20T14:52:38.019971Z",
     "iopub.status.busy": "2024-08-20T14:52:38.019538Z",
     "iopub.status.idle": "2024-08-20T14:52:38.063281Z",
     "shell.execute_reply": "2024-08-20T14:52:38.061748Z"
    },
    "papermill": {
     "duration": 0.061042,
     "end_time": "2024-08-20T14:52:38.066361",
     "exception": false,
     "start_time": "2024-08-20T14:52:38.005319",
     "status": "completed"
    },
    "tags": []
   },
   "outputs": [
    {
     "name": "stdout",
     "output_type": "stream",
     "text": [
      "<class 'pandas.core.frame.DataFrame'>\n",
      "Index: 114000 entries, 0 to 113999\n",
      "Data columns (total 16 columns):\n",
      " #   Column            Non-Null Count   Dtype  \n",
      "---  ------            --------------   -----  \n",
      " 0   popularity        114000 non-null  int64  \n",
      " 1   duration_ms       114000 non-null  int64  \n",
      " 2   explicit          114000 non-null  bool   \n",
      " 3   danceability      114000 non-null  float64\n",
      " 4   energy            114000 non-null  float64\n",
      " 5   key               114000 non-null  int64  \n",
      " 6   loudness          114000 non-null  float64\n",
      " 7   mode              114000 non-null  int64  \n",
      " 8   speechiness       114000 non-null  float64\n",
      " 9   acousticness      114000 non-null  float64\n",
      " 10  instrumentalness  114000 non-null  float64\n",
      " 11  liveness          114000 non-null  float64\n",
      " 12  valence           114000 non-null  float64\n",
      " 13  tempo             114000 non-null  float64\n",
      " 14  time_signature    114000 non-null  int64  \n",
      " 15  track_genre       114000 non-null  object \n",
      "dtypes: bool(1), float64(9), int64(5), object(1)\n",
      "memory usage: 14.0+ MB\n"
     ]
    }
   ],
   "source": [
    "df.info()"
   ]
  },
  {
   "cell_type": "markdown",
   "id": "18b9b311",
   "metadata": {
    "papermill": {
     "duration": 0.012726,
     "end_time": "2024-08-20T14:52:38.092531",
     "exception": false,
     "start_time": "2024-08-20T14:52:38.079805",
     "status": "completed"
    },
    "tags": []
   },
   "source": [
    "## missing values"
   ]
  },
  {
   "cell_type": "code",
   "execution_count": 11,
   "id": "d2fead2f",
   "metadata": {
    "execution": {
     "iopub.execute_input": "2024-08-20T14:52:38.120510Z",
     "iopub.status.busy": "2024-08-20T14:52:38.120136Z",
     "iopub.status.idle": "2024-08-20T14:52:38.144680Z",
     "shell.execute_reply": "2024-08-20T14:52:38.143606Z"
    },
    "papermill": {
     "duration": 0.041324,
     "end_time": "2024-08-20T14:52:38.147094",
     "exception": false,
     "start_time": "2024-08-20T14:52:38.105770",
     "status": "completed"
    },
    "tags": []
   },
   "outputs": [
    {
     "data": {
      "text/plain": [
       "popularity          0\n",
       "duration_ms         0\n",
       "explicit            0\n",
       "danceability        0\n",
       "energy              0\n",
       "key                 0\n",
       "loudness            0\n",
       "mode                0\n",
       "speechiness         0\n",
       "acousticness        0\n",
       "instrumentalness    0\n",
       "liveness            0\n",
       "valence             0\n",
       "tempo               0\n",
       "time_signature      0\n",
       "track_genre         0\n",
       "dtype: int64"
      ]
     },
     "execution_count": 11,
     "metadata": {},
     "output_type": "execute_result"
    }
   ],
   "source": [
    "df.isna().sum()"
   ]
  },
  {
   "cell_type": "markdown",
   "id": "d67440aa",
   "metadata": {
    "papermill": {
     "duration": 0.0126,
     "end_time": "2024-08-20T14:52:38.172904",
     "exception": false,
     "start_time": "2024-08-20T14:52:38.160304",
     "status": "completed"
    },
    "tags": []
   },
   "source": [
    "there are no missing values"
   ]
  },
  {
   "cell_type": "markdown",
   "id": "f8d96021",
   "metadata": {
    "papermill": {
     "duration": 0.012734,
     "end_time": "2024-08-20T14:52:38.198616",
     "exception": false,
     "start_time": "2024-08-20T14:52:38.185882",
     "status": "completed"
    },
    "tags": []
   },
   "source": [
    "# scaling and normalization"
   ]
  },
  {
   "cell_type": "markdown",
   "id": "809d55b6",
   "metadata": {
    "papermill": {
     "duration": 0.012846,
     "end_time": "2024-08-20T14:52:38.224809",
     "exception": false,
     "start_time": "2024-08-20T14:52:38.211963",
     "status": "completed"
    },
    "tags": []
   },
   "source": [
    "## scaling"
   ]
  },
  {
   "cell_type": "code",
   "execution_count": 12,
   "id": "64b2f61d",
   "metadata": {
    "execution": {
     "iopub.execute_input": "2024-08-20T14:52:38.252868Z",
     "iopub.status.busy": "2024-08-20T14:52:38.252464Z",
     "iopub.status.idle": "2024-08-20T14:52:38.513569Z",
     "shell.execute_reply": "2024-08-20T14:52:38.512562Z"
    },
    "papermill": {
     "duration": 0.278166,
     "end_time": "2024-08-20T14:52:38.516215",
     "exception": false,
     "start_time": "2024-08-20T14:52:38.238049",
     "status": "completed"
    },
    "tags": []
   },
   "outputs": [],
   "source": [
    "# for min_max scaling\n",
    "from sklearn.preprocessing import MinMaxScaler"
   ]
  },
  {
   "cell_type": "code",
   "execution_count": 13,
   "id": "704a6923",
   "metadata": {
    "execution": {
     "iopub.execute_input": "2024-08-20T14:52:38.544915Z",
     "iopub.status.busy": "2024-08-20T14:52:38.544496Z",
     "iopub.status.idle": "2024-08-20T14:52:38.578741Z",
     "shell.execute_reply": "2024-08-20T14:52:38.577791Z"
    },
    "papermill": {
     "duration": 0.05148,
     "end_time": "2024-08-20T14:52:38.581242",
     "exception": false,
     "start_time": "2024-08-20T14:52:38.529762",
     "status": "completed"
    },
    "tags": []
   },
   "outputs": [
    {
     "data": {
      "text/html": [
       "<div>\n",
       "<style scoped>\n",
       "    .dataframe tbody tr th:only-of-type {\n",
       "        vertical-align: middle;\n",
       "    }\n",
       "\n",
       "    .dataframe tbody tr th {\n",
       "        vertical-align: top;\n",
       "    }\n",
       "\n",
       "    .dataframe thead th {\n",
       "        text-align: right;\n",
       "    }\n",
       "</style>\n",
       "<table border=\"1\" class=\"dataframe\">\n",
       "  <thead>\n",
       "    <tr style=\"text-align: right;\">\n",
       "      <th></th>\n",
       "      <th>popularity</th>\n",
       "      <th>duration_ms</th>\n",
       "      <th>explicit</th>\n",
       "      <th>danceability</th>\n",
       "      <th>energy</th>\n",
       "      <th>key</th>\n",
       "      <th>loudness</th>\n",
       "      <th>mode</th>\n",
       "      <th>speechiness</th>\n",
       "      <th>acousticness</th>\n",
       "      <th>instrumentalness</th>\n",
       "      <th>liveness</th>\n",
       "      <th>valence</th>\n",
       "      <th>tempo</th>\n",
       "      <th>time_signature</th>\n",
       "      <th>track_genre</th>\n",
       "    </tr>\n",
       "    <tr>\n",
       "      <th>index_col</th>\n",
       "      <th></th>\n",
       "      <th></th>\n",
       "      <th></th>\n",
       "      <th></th>\n",
       "      <th></th>\n",
       "      <th></th>\n",
       "      <th></th>\n",
       "      <th></th>\n",
       "      <th></th>\n",
       "      <th></th>\n",
       "      <th></th>\n",
       "      <th></th>\n",
       "      <th></th>\n",
       "      <th></th>\n",
       "      <th></th>\n",
       "      <th></th>\n",
       "    </tr>\n",
       "  </thead>\n",
       "  <tbody>\n",
       "    <tr>\n",
       "      <th>0</th>\n",
       "      <td>73</td>\n",
       "      <td>0.044043</td>\n",
       "      <td>False</td>\n",
       "      <td>0.676</td>\n",
       "      <td>0.4610</td>\n",
       "      <td>1</td>\n",
       "      <td>0.791392</td>\n",
       "      <td>0</td>\n",
       "      <td>0.1430</td>\n",
       "      <td>0.0322</td>\n",
       "      <td>0.000001</td>\n",
       "      <td>0.3580</td>\n",
       "      <td>0.715</td>\n",
       "      <td>0.361245</td>\n",
       "      <td>0.8</td>\n",
       "      <td>acoustic</td>\n",
       "    </tr>\n",
       "    <tr>\n",
       "      <th>1</th>\n",
       "      <td>55</td>\n",
       "      <td>0.028566</td>\n",
       "      <td>False</td>\n",
       "      <td>0.420</td>\n",
       "      <td>0.1660</td>\n",
       "      <td>1</td>\n",
       "      <td>0.597377</td>\n",
       "      <td>1</td>\n",
       "      <td>0.0763</td>\n",
       "      <td>0.9240</td>\n",
       "      <td>0.000006</td>\n",
       "      <td>0.1010</td>\n",
       "      <td>0.267</td>\n",
       "      <td>0.318397</td>\n",
       "      <td>0.8</td>\n",
       "      <td>acoustic</td>\n",
       "    </tr>\n",
       "    <tr>\n",
       "      <th>2</th>\n",
       "      <td>57</td>\n",
       "      <td>0.040255</td>\n",
       "      <td>False</td>\n",
       "      <td>0.438</td>\n",
       "      <td>0.3590</td>\n",
       "      <td>0</td>\n",
       "      <td>0.736123</td>\n",
       "      <td>1</td>\n",
       "      <td>0.0557</td>\n",
       "      <td>0.2100</td>\n",
       "      <td>0.000000</td>\n",
       "      <td>0.1170</td>\n",
       "      <td>0.120</td>\n",
       "      <td>0.313643</td>\n",
       "      <td>0.8</td>\n",
       "      <td>acoustic</td>\n",
       "    </tr>\n",
       "    <tr>\n",
       "      <th>3</th>\n",
       "      <td>71</td>\n",
       "      <td>0.038557</td>\n",
       "      <td>False</td>\n",
       "      <td>0.266</td>\n",
       "      <td>0.0596</td>\n",
       "      <td>0</td>\n",
       "      <td>0.573701</td>\n",
       "      <td>1</td>\n",
       "      <td>0.0363</td>\n",
       "      <td>0.9050</td>\n",
       "      <td>0.000071</td>\n",
       "      <td>0.1320</td>\n",
       "      <td>0.143</td>\n",
       "      <td>0.746758</td>\n",
       "      <td>0.6</td>\n",
       "      <td>acoustic</td>\n",
       "    </tr>\n",
       "    <tr>\n",
       "      <th>4</th>\n",
       "      <td>82</td>\n",
       "      <td>0.037969</td>\n",
       "      <td>False</td>\n",
       "      <td>0.618</td>\n",
       "      <td>0.4430</td>\n",
       "      <td>2</td>\n",
       "      <td>0.737103</td>\n",
       "      <td>1</td>\n",
       "      <td>0.0526</td>\n",
       "      <td>0.4690</td>\n",
       "      <td>0.000000</td>\n",
       "      <td>0.0829</td>\n",
       "      <td>0.167</td>\n",
       "      <td>0.492863</td>\n",
       "      <td>0.8</td>\n",
       "      <td>acoustic</td>\n",
       "    </tr>\n",
       "  </tbody>\n",
       "</table>\n",
       "</div>"
      ],
      "text/plain": [
       "           popularity  duration_ms  explicit  danceability  energy  key  \\\n",
       "index_col                                                                 \n",
       "0                  73     0.044043     False         0.676  0.4610    1   \n",
       "1                  55     0.028566     False         0.420  0.1660    1   \n",
       "2                  57     0.040255     False         0.438  0.3590    0   \n",
       "3                  71     0.038557     False         0.266  0.0596    0   \n",
       "4                  82     0.037969     False         0.618  0.4430    2   \n",
       "\n",
       "           loudness  mode  speechiness  acousticness  instrumentalness  \\\n",
       "index_col                                                                \n",
       "0          0.791392     0       0.1430        0.0322          0.000001   \n",
       "1          0.597377     1       0.0763        0.9240          0.000006   \n",
       "2          0.736123     1       0.0557        0.2100          0.000000   \n",
       "3          0.573701     1       0.0363        0.9050          0.000071   \n",
       "4          0.737103     1       0.0526        0.4690          0.000000   \n",
       "\n",
       "           liveness  valence     tempo  time_signature track_genre  \n",
       "index_col                                                           \n",
       "0            0.3580    0.715  0.361245             0.8    acoustic  \n",
       "1            0.1010    0.267  0.318397             0.8    acoustic  \n",
       "2            0.1170    0.120  0.313643             0.8    acoustic  \n",
       "3            0.1320    0.143  0.746758             0.6    acoustic  \n",
       "4            0.0829    0.167  0.492863             0.8    acoustic  "
      ]
     },
     "execution_count": 13,
     "metadata": {},
     "output_type": "execute_result"
    }
   ],
   "source": [
    "# Columns to scale\n",
    "cols_to_scale=['duration_ms','loudness','liveness','tempo','time_signature']\n",
    "# Min-Max Scaling\n",
    "scaler = MinMaxScaler()\n",
    "df[cols_to_scale] = scaler.fit_transform(df[cols_to_scale])\n",
    "\n",
    "df.head()"
   ]
  },
  {
   "cell_type": "markdown",
   "id": "ad4d6c01",
   "metadata": {
    "papermill": {
     "duration": 0.013192,
     "end_time": "2024-08-20T14:52:38.608269",
     "exception": false,
     "start_time": "2024-08-20T14:52:38.595077",
     "status": "completed"
    },
    "tags": []
   },
   "source": [
    "# encoding"
   ]
  },
  {
   "cell_type": "markdown",
   "id": "4a4ab4aa",
   "metadata": {
    "papermill": {
     "duration": 0.013155,
     "end_time": "2024-08-20T14:52:38.634845",
     "exception": false,
     "start_time": "2024-08-20T14:52:38.621690",
     "status": "completed"
    },
    "tags": []
   },
   "source": [
    "## encoding boolean data"
   ]
  },
  {
   "cell_type": "code",
   "execution_count": 14,
   "id": "9fc31089",
   "metadata": {
    "execution": {
     "iopub.execute_input": "2024-08-20T14:52:38.663653Z",
     "iopub.status.busy": "2024-08-20T14:52:38.663275Z",
     "iopub.status.idle": "2024-08-20T14:52:38.669091Z",
     "shell.execute_reply": "2024-08-20T14:52:38.668119Z"
    },
    "papermill": {
     "duration": 0.022877,
     "end_time": "2024-08-20T14:52:38.671399",
     "exception": false,
     "start_time": "2024-08-20T14:52:38.648522",
     "status": "completed"
    },
    "tags": []
   },
   "outputs": [],
   "source": [
    "df['explicit'] = df['explicit'].astype(int)"
   ]
  },
  {
   "cell_type": "code",
   "execution_count": 15,
   "id": "212ba1e3",
   "metadata": {
    "execution": {
     "iopub.execute_input": "2024-08-20T14:52:38.700367Z",
     "iopub.status.busy": "2024-08-20T14:52:38.699973Z",
     "iopub.status.idle": "2024-08-20T14:52:38.727327Z",
     "shell.execute_reply": "2024-08-20T14:52:38.726156Z"
    },
    "papermill": {
     "duration": 0.044721,
     "end_time": "2024-08-20T14:52:38.729918",
     "exception": false,
     "start_time": "2024-08-20T14:52:38.685197",
     "status": "completed"
    },
    "tags": []
   },
   "outputs": [
    {
     "name": "stdout",
     "output_type": "stream",
     "text": [
      "<class 'pandas.core.frame.DataFrame'>\n",
      "Index: 114000 entries, 0 to 113999\n",
      "Data columns (total 16 columns):\n",
      " #   Column            Non-Null Count   Dtype  \n",
      "---  ------            --------------   -----  \n",
      " 0   popularity        114000 non-null  int64  \n",
      " 1   duration_ms       114000 non-null  float64\n",
      " 2   explicit          114000 non-null  int64  \n",
      " 3   danceability      114000 non-null  float64\n",
      " 4   energy            114000 non-null  float64\n",
      " 5   key               114000 non-null  int64  \n",
      " 6   loudness          114000 non-null  float64\n",
      " 7   mode              114000 non-null  int64  \n",
      " 8   speechiness       114000 non-null  float64\n",
      " 9   acousticness      114000 non-null  float64\n",
      " 10  instrumentalness  114000 non-null  float64\n",
      " 11  liveness          114000 non-null  float64\n",
      " 12  valence           114000 non-null  float64\n",
      " 13  tempo             114000 non-null  float64\n",
      " 14  time_signature    114000 non-null  float64\n",
      " 15  track_genre       114000 non-null  object \n",
      "dtypes: float64(11), int64(4), object(1)\n",
      "memory usage: 14.8+ MB\n"
     ]
    }
   ],
   "source": [
    "df.info()"
   ]
  },
  {
   "cell_type": "markdown",
   "id": "81ebb472",
   "metadata": {
    "papermill": {
     "duration": 0.013408,
     "end_time": "2024-08-20T14:52:38.757135",
     "exception": false,
     "start_time": "2024-08-20T14:52:38.743727",
     "status": "completed"
    },
    "tags": []
   },
   "source": [
    "# data preprocessing"
   ]
  },
  {
   "cell_type": "markdown",
   "id": "8be63bdc",
   "metadata": {
    "papermill": {
     "duration": 0.013319,
     "end_time": "2024-08-20T14:52:38.786171",
     "exception": false,
     "start_time": "2024-08-20T14:52:38.772852",
     "status": "completed"
    },
    "tags": []
   },
   "source": [
    "## train-test split"
   ]
  },
  {
   "cell_type": "code",
   "execution_count": 16,
   "id": "2aa17c7b",
   "metadata": {
    "execution": {
     "iopub.execute_input": "2024-08-20T14:52:38.816369Z",
     "iopub.status.busy": "2024-08-20T14:52:38.815967Z",
     "iopub.status.idle": "2024-08-20T14:52:39.062970Z",
     "shell.execute_reply": "2024-08-20T14:52:39.062027Z"
    },
    "papermill": {
     "duration": 0.265286,
     "end_time": "2024-08-20T14:52:39.065620",
     "exception": false,
     "start_time": "2024-08-20T14:52:38.800334",
     "status": "completed"
    },
    "tags": []
   },
   "outputs": [],
   "source": [
    "import pandas as pd\n",
    "from sklearn.model_selection import train_test_split\n",
    "from sklearn.preprocessing import OneHotEncoder\n",
    "\n",
    "\n",
    "# Separate target from predictors\n",
    "y = df.popularity\n",
    "X = df.drop(['popularity'], axis=1)\n",
    "\n",
    "# Divide data into training and validation subsets\n",
    "X_train_full, X_valid_full, y_train, y_valid = train_test_split(X, y, train_size=0.8, test_size=0.2,\n",
    "                                                                random_state=0)\n",
    "\n",
    "# Select numerical columns\n",
    "numerical_cols = [cname for cname in X_train_full.columns if X_train_full[cname].dtype in ['int64', 'float64']]\n",
    "\n",
    "# Keep selected columns only\n",
    "#my_cols = encoded_cat_cols + numerical_cols\n",
    "X_train = X_train_full[numerical_cols].copy()\n",
    "X_valid = X_valid_full[numerical_cols].copy()"
   ]
  },
  {
   "cell_type": "code",
   "execution_count": 17,
   "id": "da842451",
   "metadata": {
    "execution": {
     "iopub.execute_input": "2024-08-20T14:52:39.094659Z",
     "iopub.status.busy": "2024-08-20T14:52:39.093720Z",
     "iopub.status.idle": "2024-08-20T14:52:39.113708Z",
     "shell.execute_reply": "2024-08-20T14:52:39.112728Z"
    },
    "papermill": {
     "duration": 0.037023,
     "end_time": "2024-08-20T14:52:39.116214",
     "exception": false,
     "start_time": "2024-08-20T14:52:39.079191",
     "status": "completed"
    },
    "tags": []
   },
   "outputs": [
    {
     "data": {
      "text/html": [
       "<div>\n",
       "<style scoped>\n",
       "    .dataframe tbody tr th:only-of-type {\n",
       "        vertical-align: middle;\n",
       "    }\n",
       "\n",
       "    .dataframe tbody tr th {\n",
       "        vertical-align: top;\n",
       "    }\n",
       "\n",
       "    .dataframe thead th {\n",
       "        text-align: right;\n",
       "    }\n",
       "</style>\n",
       "<table border=\"1\" class=\"dataframe\">\n",
       "  <thead>\n",
       "    <tr style=\"text-align: right;\">\n",
       "      <th></th>\n",
       "      <th>duration_ms</th>\n",
       "      <th>explicit</th>\n",
       "      <th>danceability</th>\n",
       "      <th>energy</th>\n",
       "      <th>key</th>\n",
       "      <th>loudness</th>\n",
       "      <th>mode</th>\n",
       "      <th>speechiness</th>\n",
       "      <th>acousticness</th>\n",
       "      <th>instrumentalness</th>\n",
       "      <th>liveness</th>\n",
       "      <th>valence</th>\n",
       "      <th>tempo</th>\n",
       "      <th>time_signature</th>\n",
       "    </tr>\n",
       "    <tr>\n",
       "      <th>index_col</th>\n",
       "      <th></th>\n",
       "      <th></th>\n",
       "      <th></th>\n",
       "      <th></th>\n",
       "      <th></th>\n",
       "      <th></th>\n",
       "      <th></th>\n",
       "      <th></th>\n",
       "      <th></th>\n",
       "      <th></th>\n",
       "      <th></th>\n",
       "      <th></th>\n",
       "      <th></th>\n",
       "      <th></th>\n",
       "    </tr>\n",
       "  </thead>\n",
       "  <tbody>\n",
       "    <tr>\n",
       "      <th>57684</th>\n",
       "      <td>0.053393</td>\n",
       "      <td>0</td>\n",
       "      <td>0.785</td>\n",
       "      <td>0.700</td>\n",
       "      <td>9</td>\n",
       "      <td>0.808705</td>\n",
       "      <td>0</td>\n",
       "      <td>0.0406</td>\n",
       "      <td>0.017900</td>\n",
       "      <td>0.002510</td>\n",
       "      <td>0.0823</td>\n",
       "      <td>0.2960</td>\n",
       "      <td>0.501418</td>\n",
       "      <td>0.8</td>\n",
       "    </tr>\n",
       "    <tr>\n",
       "      <th>41923</th>\n",
       "      <td>0.047769</td>\n",
       "      <td>0</td>\n",
       "      <td>0.529</td>\n",
       "      <td>0.885</td>\n",
       "      <td>2</td>\n",
       "      <td>0.816584</td>\n",
       "      <td>1</td>\n",
       "      <td>0.1250</td>\n",
       "      <td>0.000027</td>\n",
       "      <td>0.613000</td>\n",
       "      <td>0.1450</td>\n",
       "      <td>0.2990</td>\n",
       "      <td>0.460180</td>\n",
       "      <td>0.8</td>\n",
       "    </tr>\n",
       "    <tr>\n",
       "      <th>110236</th>\n",
       "      <td>0.040188</td>\n",
       "      <td>0</td>\n",
       "      <td>0.572</td>\n",
       "      <td>0.956</td>\n",
       "      <td>10</td>\n",
       "      <td>0.849490</td>\n",
       "      <td>0</td>\n",
       "      <td>0.0418</td>\n",
       "      <td>0.010400</td>\n",
       "      <td>0.000188</td>\n",
       "      <td>0.2050</td>\n",
       "      <td>0.0375</td>\n",
       "      <td>0.517718</td>\n",
       "      <td>0.8</td>\n",
       "    </tr>\n",
       "    <tr>\n",
       "      <th>76577</th>\n",
       "      <td>0.042159</td>\n",
       "      <td>0</td>\n",
       "      <td>0.195</td>\n",
       "      <td>0.198</td>\n",
       "      <td>1</td>\n",
       "      <td>0.592327</td>\n",
       "      <td>0</td>\n",
       "      <td>0.0360</td>\n",
       "      <td>0.892000</td>\n",
       "      <td>0.000000</td>\n",
       "      <td>0.0777</td>\n",
       "      <td>0.2390</td>\n",
       "      <td>0.347197</td>\n",
       "      <td>0.8</td>\n",
       "    </tr>\n",
       "    <tr>\n",
       "      <th>18163</th>\n",
       "      <td>0.032943</td>\n",
       "      <td>1</td>\n",
       "      <td>0.422</td>\n",
       "      <td>0.916</td>\n",
       "      <td>1</td>\n",
       "      <td>0.794296</td>\n",
       "      <td>1</td>\n",
       "      <td>0.8810</td>\n",
       "      <td>0.869000</td>\n",
       "      <td>0.000000</td>\n",
       "      <td>0.9060</td>\n",
       "      <td>0.4970</td>\n",
       "      <td>0.326139</td>\n",
       "      <td>0.8</td>\n",
       "    </tr>\n",
       "  </tbody>\n",
       "</table>\n",
       "</div>"
      ],
      "text/plain": [
       "           duration_ms  explicit  danceability  energy  key  loudness  mode  \\\n",
       "index_col                                                                     \n",
       "57684         0.053393         0         0.785   0.700    9  0.808705     0   \n",
       "41923         0.047769         0         0.529   0.885    2  0.816584     1   \n",
       "110236        0.040188         0         0.572   0.956   10  0.849490     0   \n",
       "76577         0.042159         0         0.195   0.198    1  0.592327     0   \n",
       "18163         0.032943         1         0.422   0.916    1  0.794296     1   \n",
       "\n",
       "           speechiness  acousticness  instrumentalness  liveness  valence  \\\n",
       "index_col                                                                   \n",
       "57684           0.0406      0.017900          0.002510    0.0823   0.2960   \n",
       "41923           0.1250      0.000027          0.613000    0.1450   0.2990   \n",
       "110236          0.0418      0.010400          0.000188    0.2050   0.0375   \n",
       "76577           0.0360      0.892000          0.000000    0.0777   0.2390   \n",
       "18163           0.8810      0.869000          0.000000    0.9060   0.4970   \n",
       "\n",
       "              tempo  time_signature  \n",
       "index_col                            \n",
       "57684      0.501418             0.8  \n",
       "41923      0.460180             0.8  \n",
       "110236     0.517718             0.8  \n",
       "76577      0.347197             0.8  \n",
       "18163      0.326139             0.8  "
      ]
     },
     "execution_count": 17,
     "metadata": {},
     "output_type": "execute_result"
    }
   ],
   "source": [
    "X_train.head()"
   ]
  },
  {
   "cell_type": "markdown",
   "id": "ca0e6c6a",
   "metadata": {
    "papermill": {
     "duration": 0.013848,
     "end_time": "2024-08-20T14:52:39.144008",
     "exception": false,
     "start_time": "2024-08-20T14:52:39.130160",
     "status": "completed"
    },
    "tags": []
   },
   "source": [
    "# modelling"
   ]
  },
  {
   "cell_type": "code",
   "execution_count": 18,
   "id": "1a072bf7",
   "metadata": {
    "execution": {
     "iopub.execute_input": "2024-08-20T14:52:39.172676Z",
     "iopub.status.busy": "2024-08-20T14:52:39.171906Z",
     "iopub.status.idle": "2024-08-20T14:52:40.877905Z",
     "shell.execute_reply": "2024-08-20T14:52:40.876969Z"
    },
    "papermill": {
     "duration": 1.723159,
     "end_time": "2024-08-20T14:52:40.880543",
     "exception": false,
     "start_time": "2024-08-20T14:52:39.157384",
     "status": "completed"
    },
    "tags": []
   },
   "outputs": [],
   "source": [
    "from sklearn.ensemble import RandomForestRegressor,GradientBoostingRegressor\n",
    "from sklearn.linear_model import LinearRegression,Ridge,Lasso\n",
    "from sklearn.svm import SVR\n",
    "from sklearn.metrics import mean_absolute_error\n",
    "import lightgbm as lgb\n",
    "from lightgbm import LGBMRegressor\n"
   ]
  },
  {
   "cell_type": "code",
   "execution_count": 19,
   "id": "591124f3",
   "metadata": {
    "execution": {
     "iopub.execute_input": "2024-08-20T14:52:40.910155Z",
     "iopub.status.busy": "2024-08-20T14:52:40.909574Z",
     "iopub.status.idle": "2024-08-20T14:52:40.915867Z",
     "shell.execute_reply": "2024-08-20T14:52:40.914771Z"
    },
    "papermill": {
     "duration": 0.023566,
     "end_time": "2024-08-20T14:52:40.918075",
     "exception": false,
     "start_time": "2024-08-20T14:52:40.894509",
     "status": "completed"
    },
    "tags": []
   },
   "outputs": [],
   "source": [
    "reg_models = {\n",
    "    'random_forest':RandomForestRegressor(),\n",
    "    'xgboost':GradientBoostingRegressor(),\n",
    "    'linear_reg':LinearRegression(),\n",
    "    'ridge':Ridge(),\n",
    "    'lasso':Lasso(),\n",
    "    'svr':SVR(),\n",
    "    'lightgbm':LGBMRegressor()\n",
    "}"
   ]
  },
  {
   "cell_type": "markdown",
   "id": "f1288e98",
   "metadata": {
    "papermill": {
     "duration": 0.013809,
     "end_time": "2024-08-20T14:52:40.946101",
     "exception": false,
     "start_time": "2024-08-20T14:52:40.932292",
     "status": "completed"
    },
    "tags": []
   },
   "source": [
    "We'll use dictionaries to loop over the models and also store the results in a dictionary"
   ]
  },
  {
   "cell_type": "code",
   "execution_count": 20,
   "id": "3ad99a6e",
   "metadata": {
    "execution": {
     "iopub.execute_input": "2024-08-20T14:52:40.977021Z",
     "iopub.status.busy": "2024-08-20T14:52:40.976346Z",
     "iopub.status.idle": "2024-08-20T14:52:40.981147Z",
     "shell.execute_reply": "2024-08-20T14:52:40.980093Z"
    },
    "papermill": {
     "duration": 0.023068,
     "end_time": "2024-08-20T14:52:40.983326",
     "exception": false,
     "start_time": "2024-08-20T14:52:40.960258",
     "status": "completed"
    },
    "tags": []
   },
   "outputs": [],
   "source": [
    "pred_dict = {\n",
    "    'reg_model' :[],\n",
    "    'mae_score' :[]\n",
    "}"
   ]
  },
  {
   "cell_type": "code",
   "execution_count": 21,
   "id": "98c6e53e",
   "metadata": {
    "execution": {
     "iopub.execute_input": "2024-08-20T14:52:41.014005Z",
     "iopub.status.busy": "2024-08-20T14:52:41.012930Z",
     "iopub.status.idle": "2024-08-20T15:05:18.275990Z",
     "shell.execute_reply": "2024-08-20T15:05:18.274814Z"
    },
    "papermill": {
     "duration": 757.28113,
     "end_time": "2024-08-20T15:05:18.278775",
     "exception": false,
     "start_time": "2024-08-20T14:52:40.997645",
     "status": "completed"
    },
    "tags": []
   },
   "outputs": [
    {
     "name": "stdout",
     "output_type": "stream",
     "text": [
      "[LightGBM] [Info] Auto-choosing col-wise multi-threading, the overhead of testing was 0.018774 seconds.\n",
      "You can set `force_col_wise=true` to remove the overhead.\n",
      "[LightGBM] [Info] Total Bins 2571\n",
      "[LightGBM] [Info] Number of data points in the train set: 91200, number of used features: 14\n",
      "[LightGBM] [Info] Start training from score 33.190000\n"
     ]
    }
   ],
   "source": [
    "\n",
    "for name, model in reg_models.items():\n",
    "    model.fit(X_train, y_train)\n",
    "    # Preprocessing of validation data, get predictions\n",
    "    preds = model.predict(X_valid)\n",
    "    #validating the model\n",
    "    mae = mean_absolute_error(y_valid, preds)\n",
    "    pred_dict['reg_model'].append(name)\n",
    "    pred_dict['mae_score'].append(mae)\n"
   ]
  },
  {
   "cell_type": "code",
   "execution_count": 22,
   "id": "2d957cbf",
   "metadata": {
    "execution": {
     "iopub.execute_input": "2024-08-20T15:05:18.308681Z",
     "iopub.status.busy": "2024-08-20T15:05:18.308296Z",
     "iopub.status.idle": "2024-08-20T15:05:18.315314Z",
     "shell.execute_reply": "2024-08-20T15:05:18.314298Z"
    },
    "papermill": {
     "duration": 0.024765,
     "end_time": "2024-08-20T15:05:18.317768",
     "exception": false,
     "start_time": "2024-08-20T15:05:18.293003",
     "status": "completed"
    },
    "tags": []
   },
   "outputs": [
    {
     "data": {
      "text/plain": [
       "{'reg_model': ['random_forest',\n",
       "  'xgboost',\n",
       "  'linear_reg',\n",
       "  'ridge',\n",
       "  'lasso',\n",
       "  'svr',\n",
       "  'lightgbm'],\n",
       " 'mae_score': [10.701771922745426,\n",
       "  17.500393926468536,\n",
       "  18.388226090755794,\n",
       "  18.388375471151956,\n",
       "  18.893644736842106,\n",
       "  18.21254445614759,\n",
       "  16.49142960138796]}"
      ]
     },
     "execution_count": 22,
     "metadata": {},
     "output_type": "execute_result"
    }
   ],
   "source": [
    "pred_dict"
   ]
  },
  {
   "cell_type": "markdown",
   "id": "adc2c6b0",
   "metadata": {
    "papermill": {
     "duration": 0.014762,
     "end_time": "2024-08-20T15:05:18.346880",
     "exception": false,
     "start_time": "2024-08-20T15:05:18.332118",
     "status": "completed"
    },
    "tags": []
   },
   "source": [
    "# loading"
   ]
  },
  {
   "cell_type": "code",
   "execution_count": 23,
   "id": "e8036f90",
   "metadata": {
    "execution": {
     "iopub.execute_input": "2024-08-20T15:05:18.444292Z",
     "iopub.status.busy": "2024-08-20T15:05:18.443895Z",
     "iopub.status.idle": "2024-08-20T15:05:18.449004Z",
     "shell.execute_reply": "2024-08-20T15:05:18.448015Z"
    },
    "papermill": {
     "duration": 0.023519,
     "end_time": "2024-08-20T15:05:18.451321",
     "exception": false,
     "start_time": "2024-08-20T15:05:18.427802",
     "status": "completed"
    },
    "tags": []
   },
   "outputs": [],
   "source": [
    "# Create a DataFrame\n",
    "load_df = pd.DataFrame(pred_dict)"
   ]
  },
  {
   "cell_type": "code",
   "execution_count": 24,
   "id": "4c6f05ab",
   "metadata": {
    "execution": {
     "iopub.execute_input": "2024-08-20T15:05:18.482615Z",
     "iopub.status.busy": "2024-08-20T15:05:18.481686Z",
     "iopub.status.idle": "2024-08-20T15:05:18.492529Z",
     "shell.execute_reply": "2024-08-20T15:05:18.491473Z"
    },
    "papermill": {
     "duration": 0.029134,
     "end_time": "2024-08-20T15:05:18.495049",
     "exception": false,
     "start_time": "2024-08-20T15:05:18.465915",
     "status": "completed"
    },
    "tags": []
   },
   "outputs": [
    {
     "data": {
      "text/html": [
       "<div>\n",
       "<style scoped>\n",
       "    .dataframe tbody tr th:only-of-type {\n",
       "        vertical-align: middle;\n",
       "    }\n",
       "\n",
       "    .dataframe tbody tr th {\n",
       "        vertical-align: top;\n",
       "    }\n",
       "\n",
       "    .dataframe thead th {\n",
       "        text-align: right;\n",
       "    }\n",
       "</style>\n",
       "<table border=\"1\" class=\"dataframe\">\n",
       "  <thead>\n",
       "    <tr style=\"text-align: right;\">\n",
       "      <th></th>\n",
       "      <th>reg_model</th>\n",
       "      <th>mae_score</th>\n",
       "    </tr>\n",
       "  </thead>\n",
       "  <tbody>\n",
       "    <tr>\n",
       "      <th>0</th>\n",
       "      <td>random_forest</td>\n",
       "      <td>10.701772</td>\n",
       "    </tr>\n",
       "    <tr>\n",
       "      <th>1</th>\n",
       "      <td>xgboost</td>\n",
       "      <td>17.500394</td>\n",
       "    </tr>\n",
       "    <tr>\n",
       "      <th>2</th>\n",
       "      <td>linear_reg</td>\n",
       "      <td>18.388226</td>\n",
       "    </tr>\n",
       "    <tr>\n",
       "      <th>3</th>\n",
       "      <td>ridge</td>\n",
       "      <td>18.388375</td>\n",
       "    </tr>\n",
       "    <tr>\n",
       "      <th>4</th>\n",
       "      <td>lasso</td>\n",
       "      <td>18.893645</td>\n",
       "    </tr>\n",
       "    <tr>\n",
       "      <th>5</th>\n",
       "      <td>svr</td>\n",
       "      <td>18.212544</td>\n",
       "    </tr>\n",
       "    <tr>\n",
       "      <th>6</th>\n",
       "      <td>lightgbm</td>\n",
       "      <td>16.491430</td>\n",
       "    </tr>\n",
       "  </tbody>\n",
       "</table>\n",
       "</div>"
      ],
      "text/plain": [
       "       reg_model  mae_score\n",
       "0  random_forest  10.701772\n",
       "1        xgboost  17.500394\n",
       "2     linear_reg  18.388226\n",
       "3          ridge  18.388375\n",
       "4          lasso  18.893645\n",
       "5            svr  18.212544\n",
       "6       lightgbm  16.491430"
      ]
     },
     "execution_count": 24,
     "metadata": {},
     "output_type": "execute_result"
    }
   ],
   "source": [
    "load_df"
   ]
  },
  {
   "cell_type": "markdown",
   "id": "8636d39e",
   "metadata": {
    "papermill": {
     "duration": 0.014486,
     "end_time": "2024-08-20T15:05:18.524517",
     "exception": false,
     "start_time": "2024-08-20T15:05:18.510031",
     "status": "completed"
    },
    "tags": []
   },
   "source": [
    "Random forests appear to have the lowest MAE thus making it the best performing model."
   ]
  }
 ],
 "metadata": {
  "kaggle": {
   "accelerator": "none",
   "dataSources": [],
   "dockerImageVersionId": 30746,
   "isGpuEnabled": false,
   "isInternetEnabled": true,
   "language": "python",
   "sourceType": "notebook"
  },
  "kernelspec": {
   "display_name": "Python 3",
   "language": "python",
   "name": "python3"
  },
  "language_info": {
   "codemirror_mode": {
    "name": "ipython",
    "version": 3
   },
   "file_extension": ".py",
   "mimetype": "text/x-python",
   "name": "python",
   "nbconvert_exporter": "python",
   "pygments_lexer": "ipython3",
   "version": "3.10.13"
  },
  "papermill": {
   "default_parameters": {},
   "duration": 778.661621,
   "end_time": "2024-08-20T15:05:19.464996",
   "environment_variables": {},
   "exception": null,
   "input_path": "__notebook__.ipynb",
   "output_path": "__notebook__.ipynb",
   "parameters": {},
   "start_time": "2024-08-20T14:52:20.803375",
   "version": "2.5.0"
  }
 },
 "nbformat": 4,
 "nbformat_minor": 5
}
